{
 "cells": [
  {
   "cell_type": "markdown",
   "metadata": {},
   "source": [
    "Modalita' di lettura del chip possono essere triggered o continuous (pagina 57).\n",
    "\n",
    "Readout Modes:\n",
    "The readout logic support two operating modes: Triggered and Continuous. The operating\n",
    "mode can be selected by Mode Control Register (0x0001) (see section 3.2.2).\n",
    "The triggered mode is intended to sample over a relatively short interval of time the status\n",
    "of the discriminated outputs of the pixels. The coincidence between a discriminated signal\n",
    "and the assertion of a strobe signal determines the latching of the pixel hit. All pixel ﬁring\n",
    "during the assertion of the strobe are latched as hits. The duration of the strobing interval is\n",
    "expected to be set to a few hundredths of nanoseconds. The start of the strobing intervals is\n",
    "tpically controlled by an external trigger source.\n",
    "\n",
    "\n",
    "The continuous mode is intended to provide the readout of pixel hits sampled during periodically repeating strobing intervals, with a duration equal to the interval between two\n",
    "consecutive ones. The framing intervals would typically be longer (order of a few µs) compared to those used in triggered mode. The gap between framing intervals is maintained as short as possible (order of 100 ns).\n",
    "The framing intervals can be controlled by external commands (triggers) or by an internal sequencer, providing ﬂexible control of strobe duration and repetition rate (see section 3.3.6).\n",
    "\n",
    "While the two modes are expected to operated with different framing conﬁgurations, the only difference between them is related to the logic handling the condition of in-pixel multi-event buffers becoming full and no storage space is left for subsequent frames."
   ]
  },
  {
   "cell_type": "markdown",
   "metadata": {},
   "source": []
  }
 ],
 "metadata": {
  "language_info": {
   "name": "python"
  }
 },
 "nbformat": 4,
 "nbformat_minor": 2
}
