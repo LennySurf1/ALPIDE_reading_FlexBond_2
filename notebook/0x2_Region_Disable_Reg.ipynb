{
 "cells": [
  {
   "cell_type": "code",
   "execution_count": 1,
   "metadata": {},
   "outputs": [
    {
     "data": {
      "text/html": [
       "<h2>Register 0x2 Region Disable Register 1 Explanation</h2>"
      ],
      "text/plain": [
       "<IPython.core.display.HTML object>"
      ]
     },
     "metadata": {},
     "output_type": "display_data"
    },
    {
     "data": {
      "application/vnd.jupyter.widget-view+json": {
       "model_id": "0148eaee252f492fb80e6a0606583f9f",
       "version_major": 2,
       "version_minor": 0
      },
      "text/plain": [
       "interactive(children=(Text(value='0x0000', description='Hex Value:'), Output()), _dom_classes=('widget-interac…"
      ]
     },
     "metadata": {},
     "output_type": "display_data"
    },
    {
     "data": {
      "text/plain": [
       "<function __main__.describe_region_disable_register(hex_value='0x0000')>"
      ]
     },
     "execution_count": 1,
     "metadata": {},
     "output_type": "execute_result"
    }
   ],
   "source": [
    "# Importing necessary libraries\n",
    "from ipywidgets import interact, Text, VBox, Label\n",
    "from IPython.display import display, HTML\n",
    "\n",
    "# Function to describe the Region Disable Register based on the given value\n",
    "def describe_region_disable_register(hex_value=\"0x0000\"):\n",
    "    # Convert the hex value to an integer\n",
    "    register_value = int(hex_value, 16)\n",
    "    \n",
    "    # Create a list to hold the descriptions for each region\n",
    "    descriptions = [f\"Region {i} - {'Disabled' if (register_value & (1 << i)) else 'Enabled'}\" for i in range(16)]\n",
    "    \n",
    "    # Display the description of the register value and each region's status\n",
    "    display(VBox([\n",
    "        Label(f\"Region Disable Register Value (Hex): {hex_value.upper()}\"),\n",
    "        *[Label(desc) for desc in descriptions]\n",
    "    ]))\n",
    "\n",
    "# Displaying a title\n",
    "display(HTML(\"<h2>Register 0x2 Region Disable Register 1 Explanation</h2>\"))\n",
    "\n",
    "# Use interact to input a hexadecimal value and get a description of the Region Disable Register\n",
    "interact(\n",
    "    describe_region_disable_register,\n",
    "    hex_value=Text(value=\"0x0000\", description=\"Hex Value:\")\n",
    ")\n"
   ]
  },
  {
   "cell_type": "code",
   "execution_count": null,
   "metadata": {},
   "outputs": [],
   "source": []
  }
 ],
 "metadata": {
  "kernelspec": {
   "display_name": "Python 3",
   "language": "python",
   "name": "python3"
  },
  "language_info": {
   "codemirror_mode": {
    "name": "ipython",
    "version": 3
   },
   "file_extension": ".py",
   "mimetype": "text/x-python",
   "name": "python",
   "nbconvert_exporter": "python",
   "pygments_lexer": "ipython3",
   "version": "3.9.7"
  }
 },
 "nbformat": 4,
 "nbformat_minor": 2
}
