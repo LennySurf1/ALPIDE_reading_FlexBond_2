{
 "cells": [
  {
   "cell_type": "code",
   "execution_count": 1,
   "metadata": {},
   "outputs": [
    {
     "data": {
      "text/html": [
       "<h2>Register 0x0 Command Register Explanation</h2>"
      ],
      "text/plain": [
       "<IPython.core.display.HTML object>"
      ]
     },
     "metadata": {},
     "output_type": "display_data"
    },
    {
     "data": {
      "application/vnd.jupyter.widget-view+json": {
       "model_id": "f6a757cd449f4e6d8a92240c02afe0a8",
       "version_major": 2,
       "version_minor": 0
      },
      "text/plain": [
       "interactive(children=(Text(value='0x0000', description='Hex Value:'), Output()), _dom_classes=('widget-interac…"
      ]
     },
     "metadata": {},
     "output_type": "display_data"
    },
    {
     "data": {
      "text/plain": [
       "<function __main__.describe_command_register(hex_value='0x0000')>"
      ]
     },
     "execution_count": 1,
     "metadata": {},
     "output_type": "execute_result"
    }
   ],
   "source": [
    "# Importing necessary libraries\n",
    "from ipywidgets import interact, Text, VBox, Label\n",
    "from IPython.display import display, HTML\n",
    "\n",
    "# Command codes description dictionary\n",
    "command_codes = {\n",
    "    0x00D2: \"GRST - Chip global reset\",\n",
    "    0x00E4: \"PRST - Pixel matrix RESET\",\n",
    "    0x0078: \"PULSE - Pixel matrix PULSE\",\n",
    "    0x0036: \"BCRST - Bunch Counter reset\",\n",
    "    0x0063: \"RORST - Readout (RRU/TRU/DMU) reset\",\n",
    "    0x00AA: \"DEBUG - Store snapshot into debug registers\",\n",
    "    0x00B1: \"TRIGGER - Trigger command\",\n",
    "    0x0055: \"TRIGGER - Trigger command\",\n",
    "    0x00C9: \"TRIGGER - Trigger command\",\n",
    "    0x002D: \"TRIGGER - Trigger command\",\n",
    "    0x009C: \"WROP - Start Unicast or Multicast Write\",\n",
    "    0x004E: \"RDOP - Start Unicast Read\",\n",
    "    0xFF00: \"CMU CLEAR ERR - Clear CMU error flags\",\n",
    "    0xFF01: \"FIFOTEST - Starts regions memory test\",\n",
    "    0xFF02: \"LOADOBDEFCFG - Loads default configuration for the OB Module\",\n",
    "    0xFF10: \"XOFF - Stops sending data off-chip\",\n",
    "    0xFF11: \"XON - Resume data sending\",\n",
    "    0xFF20: \"ADCMEASURE - Start ADC measure\"\n",
    "}\n",
    "\n",
    "# Function to describe the command register based on the given value\n",
    "def describe_command_register(hex_value=\"0x0000\"):\n",
    "    # Convert the hex value to an integer\n",
    "    register_value = int(hex_value, 16)\n",
    "    \n",
    "    # Find the description for the command code\n",
    "    command_description = command_codes.get(register_value, \"Unknown Command\")\n",
    "    \n",
    "    # Display the description of the command code\n",
    "    display(VBox([\n",
    "        Label(f\"Command Register Value (Hex): {hex_value.upper()}\"),\n",
    "        Label(f\"Command Code: 0x{register_value:04X}\"),\n",
    "        Label(f\"Description: {command_description}\")\n",
    "    ]))\n",
    "\n",
    "# Displaying a title\n",
    "display(HTML(\"<h2>Register 0x0 Command Register Explanation</h2>\"))\n",
    "\n",
    "# Use interact to input a hexadecimal value and get a description of the command register\n",
    "interact(\n",
    "    describe_command_register,\n",
    "    hex_value=Text(value=\"0x0000\", description=\"Hex Value:\")\n",
    ")\n"
   ]
  },
  {
   "cell_type": "code",
   "execution_count": null,
   "metadata": {},
   "outputs": [],
   "source": []
  }
 ],
 "metadata": {
  "kernelspec": {
   "display_name": "Python 3",
   "language": "python",
   "name": "python3"
  },
  "language_info": {
   "codemirror_mode": {
    "name": "ipython",
    "version": 3
   },
   "file_extension": ".py",
   "mimetype": "text/x-python",
   "name": "python",
   "nbconvert_exporter": "python",
   "pygments_lexer": "ipython3",
   "version": "3.9.7"
  }
 },
 "nbformat": 4,
 "nbformat_minor": 2
}
