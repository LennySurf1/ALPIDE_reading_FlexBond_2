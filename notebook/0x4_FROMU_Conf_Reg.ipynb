{
 "cells": [
  {
   "cell_type": "code",
   "execution_count": 3,
   "metadata": {},
   "outputs": [
    {
     "data": {
      "text/html": [
       "<h2>Register 0x4 FROMU Configuration Register 1 Explanation</h2>"
      ],
      "text/plain": [
       "<IPython.core.display.HTML object>"
      ]
     },
     "metadata": {},
     "output_type": "display_data"
    },
    {
     "data": {
      "application/vnd.jupyter.widget-view+json": {
       "model_id": "e6c0210112274903a8eb8937d3130c17",
       "version_major": 2,
       "version_minor": 0
      },
      "text/plain": [
       "interactive(children=(Text(value='0x0000', description='Hex Value:'), Output()), _dom_classes=('widget-interac…"
      ]
     },
     "metadata": {},
     "output_type": "display_data"
    },
    {
     "data": {
      "text/plain": [
       "<function __main__.describe_fromu_config_register_1(hex_value='0x0000')>"
      ]
     },
     "execution_count": 3,
     "metadata": {},
     "output_type": "execute_result"
    }
   ],
   "source": [
    "# Importing necessary libraries\n",
    "from ipywidgets import interact, Text, VBox, Label\n",
    "from IPython.display import display, HTML\n",
    "\n",
    "# Function to describe the FROMU Configuration Register 1 based on the given value\n",
    "def describe_fromu_config_register_1(hex_value=\"0x0000\"):\n",
    "    # Convert the hex value to an integer\n",
    "    register_value = int(hex_value, 16)\n",
    "    \n",
    "    # Extract each field from the register value\n",
    "    pixel_meb_mask = register_value & 0x07          # Bits 2:0\n",
    "    internal_strobe = (register_value >> 3) & 0x01  # Bit 3\n",
    "    enable_busy_monitoring = (register_value >> 4) & 0x01  # Bit 4\n",
    "    test_pulse_mode = (register_value >> 5) & 0x01  # Bit 5\n",
    "    enable_test_strobe = (register_value >> 6) & 0x01  # Bit 6\n",
    "    enable_rotate_pulse_lines = (register_value >> 7) & 0x01  # Bit 7\n",
    "    trigger_delay = (register_value >> 8) & 0x07  # Bits 10:8\n",
    "    \n",
    "    # Create descriptions for each field\n",
    "    descriptions = [\n",
    "        f\"Pixel MEB Mask (Bits 2:0): 0x{pixel_meb_mask:01X} - Setting one of these three bits to 1 disables the usage of a corresponding bank of the in-pixel multi event buffers. Masking all slices with 0b111 is equivalent to enabling all.\",\n",
    "        f\"Internal STROBE Generation (Bit 3): {'Enabled' if internal_strobe else 'Disabled'} - Controls the sequencer to generate a periodically repeating internal trigger command in readout mode.\",\n",
    "        f\"Enable BUSY Monitoring (Bit 4): {'Enabled' if enable_busy_monitoring else 'Disabled'} - Controls if the FROMU monitors the BUSY input and rejects triggers when the BUSY is asserted (input low).\",\n",
    "        f\"Test Pulse Mode (Bit 5): {'Enabled' if test_pulse_mode else 'Disabled'} - Controls the type of pulsing of the pixels triggered by the PULSE command. 0: digital pulsing, 1: analog pulsing.\",\n",
    "        f\"Enable Test STROBE (Bit 6): {'Enabled' if enable_test_strobe else 'Disabled'} - Enables the automatic generation of an internal TRIGGER pulse after a PULSE command.\",\n",
    "        f\"Enable Rotate Pulse Lines (Bit 7): {'Enabled' if enable_rotate_pulse_lines else 'Disabled'} - Enables automatic shift and rotate of selected pulse line after each PULSE signal.\",\n",
    "        f\"Trigger Delay (Bits 10:8): 0x{trigger_delay:01X} - Delay applied to the trigger command, increasing the latency between the command and the internal generation of the STROBE signal.\"\n",
    "    ]\n",
    "    \n",
    "    # Display the description of the register value and each field's status\n",
    "    display(VBox([\n",
    "        Label(f\"FROMU Configuration Register 1 Value (Hex): {hex_value.upper()}\"),\n",
    "        *[Label(desc) for desc in descriptions]\n",
    "    ]))\n",
    "\n",
    "# Displaying a title\n",
    "display(HTML(\"<h2>Register 0x4 FROMU Configuration Register 1 Explanation</h2>\"))\n",
    "\n",
    "# Use interact to input a hexadecimal value and get a description of the FROMU Configuration Register 1\n",
    "interact(\n",
    "    describe_fromu_config_register_1,\n",
    "    hex_value=Text(value=\"0x0000\", description=\"Hex Value:\")\n",
    ")\n"
   ]
  },
  {
   "cell_type": "code",
   "execution_count": null,
   "metadata": {},
   "outputs": [],
   "source": []
  }
 ],
 "metadata": {
  "kernelspec": {
   "display_name": "Python 3",
   "language": "python",
   "name": "python3"
  },
  "language_info": {
   "codemirror_mode": {
    "name": "ipython",
    "version": 3
   },
   "file_extension": ".py",
   "mimetype": "text/x-python",
   "name": "python",
   "nbconvert_exporter": "python",
   "pygments_lexer": "ipython3",
   "version": "3.9.7"
  }
 },
 "nbformat": 4,
 "nbformat_minor": 2
}
