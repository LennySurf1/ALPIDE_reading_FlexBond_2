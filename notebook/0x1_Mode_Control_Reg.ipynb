{
 "cells": [
  {
   "cell_type": "markdown",
   "metadata": {},
   "source": [
    "Qui di seguito una funzione per capire che valore mettere nel registro 0x1 settando i valori dei bit"
   ]
  },
  {
   "cell_type": "code",
   "execution_count": 5,
   "metadata": {},
   "outputs": [
    {
     "data": {
      "text/html": [
       "<h2>Register 0x0001 Configuration</h2>"
      ],
      "text/plain": [
       "<IPython.core.display.HTML object>"
      ]
     },
     "metadata": {},
     "output_type": "display_data"
    },
    {
     "data": {
      "application/vnd.jupyter.widget-view+json": {
       "model_id": "fcf36089de624d2b9b5a537a024529c3",
       "version_major": 2,
       "version_minor": 0
      },
      "text/plain": [
       "VBox(children=(Label(value='Bits 1:0 - Chip Mode Selector\\n0: Configuration Mode (readout disabled)\\n1: Trigge…"
      ]
     },
     "metadata": {},
     "output_type": "display_data"
    },
    {
     "data": {
      "application/vnd.jupyter.widget-view+json": {
       "model_id": "bc78034588484a3aa1d605eab9865fdd",
       "version_major": 2,
       "version_minor": 0
      },
      "text/plain": [
       "interactive(children=(IntSlider(value=0, description='Chip Mode', max=3), IntSlider(value=1, description='Clus…"
      ]
     },
     "metadata": {},
     "output_type": "display_data"
    },
    {
     "data": {
      "text/plain": [
       "<function __main__.calculate_register_value(chip_mode_selector=0, clustering_enable=1, matrix_readout_speed=1, ib_serial_link_speed=3, skew_global_signals=1, skew_start_readout=1, readout_clock_gating=1, readout_from_cmu=0)>"
      ]
     },
     "execution_count": 5,
     "metadata": {},
     "output_type": "execute_result"
    }
   ],
   "source": [
    "# Importing necessary library\n",
    "from ipywidgets import interact, IntSlider, VBox, Label\n",
    "from IPython.display import display, HTML\n",
    "\n",
    "# Function to calculate the register value based on input fields\n",
    "def calculate_register_value(\n",
    "    chip_mode_selector=0,        # Bits 1:0\n",
    "    clustering_enable=1,         # Bit 2\n",
    "    matrix_readout_speed=1,      # Bit 3\n",
    "    ib_serial_link_speed=3,      # Bits 5:4\n",
    "    skew_global_signals=1,       # Bit 6\n",
    "    skew_start_readout=1,        # Bit 7\n",
    "    readout_clock_gating=1,      # Bit 8\n",
    "    readout_from_cmu=0           # Bit 9\n",
    "):\n",
    "    # Combine the bit fields into a single register value\n",
    "    register_value = (\n",
    "        (chip_mode_selector & 0x3) |           # Bits 1:0\n",
    "        (clustering_enable << 2) |             # Bit 2\n",
    "        (matrix_readout_speed << 3) |          # Bit 3\n",
    "        (ib_serial_link_speed << 4) |          # Bits 5:4\n",
    "        (skew_global_signals << 6) |           # Bit 6\n",
    "        (skew_start_readout << 7) |            # Bit 7\n",
    "        (readout_clock_gating << 8) |          # Bit 8\n",
    "        (readout_from_cmu << 9)                # Bit 9\n",
    "    )\n",
    "    \n",
    "    # Display the register value in hexadecimal, binary, and decimal formats\n",
    "    print(f\"Register 0x0001 Value (Hex): 0x{register_value:03X}\")\n",
    "    print(f\"Register 0x0001 Value (Binary): {register_value:016b}\")\n",
    "    print(f\"Register 0x0001 Value (Decimal): {register_value}\")\n",
    "    \n",
    "# Displaying a title\n",
    "display(HTML(\"<h2>Register 0x0001 Configuration</h2>\"))\n",
    "\n",
    "# Displaying the bit descriptions\n",
    "bit_descriptions = [\n",
    "    \"Bits 1:0 - Chip Mode Selector\\n0: Configuration Mode (readout disabled)\\n1: Triggered Mode\\n2: Continuous Mode\",\n",
    "    \"Bit 2 - Clustering Enable\\n0: Disable clustering\\n1: Enable clustering\",\n",
    "    \"Bit 3 - Matrix Readout Speed\\n0: 10 MHz\\n1: 20 MHz\",\n",
    "    \"Bits 5:4 - IB Serial Link Speed\\n0: 400 Mb/s\\n1: 600 Mb/s\\n2,3: 1200 Mb/s\",\n",
    "    \"Bit 6 - Enable Skewing of Global Signals\\n0: Disable skewing\\n1: Enable skewing\",\n",
    "    \"Bit 7 - Enable Skewing of Start Readout\\n0: Disable skewing\\n1: Enable skewing\",\n",
    "    \"Bit 8 - Enable Readout Clock Gating\\n0: Disable clock gating\\n1: Enable clock gating\",\n",
    "    \"Bit 9 - Enable Readout From CMU\\n0: Disable readout from CMU\\n1: Enable readout from CMU\"\n",
    "]\n",
    "\n",
    "# Displaying the bit descriptions\n",
    "display(VBox([Label(description) for description in bit_descriptions]))\n",
    "\n",
    "# Use interact to create sliders for each bit field\n",
    "interact(\n",
    "    calculate_register_value,\n",
    "    chip_mode_selector=IntSlider(min=0, max=3, step=1, value=0, description='Chip Mode'),\n",
    "    clustering_enable=IntSlider(min=0, max=1, step=1, value=1, description='Clustering'),\n",
    "    matrix_readout_speed=IntSlider(min=0, max=1, step=1, value=1, description='Readout Speed'),\n",
    "    ib_serial_link_speed=IntSlider(min=0, max=3, step=1, value=3, description='Serial Link'),\n",
    "    skew_global_signals=IntSlider(min=0, max=1, step=1, value=1, description='Global Skew'),\n",
    "    skew_start_readout=IntSlider(min=0, max=1, step=1, value=1, description='Start Readout Skew'),\n",
    "    readout_clock_gating=IntSlider(min=0, max=1, step=1, value=1, description='Clock Gating'),\n",
    "    readout_from_cmu=IntSlider(min=0, max=1, step=1, value=0, description='Readout from CMU')\n",
    ")\n"
   ]
  },
  {
   "cell_type": "markdown",
   "metadata": {},
   "source": [
    "Qui sotto la funzione per passare da un valore noto alla decomposizione in bit"
   ]
  },
  {
   "cell_type": "code",
   "execution_count": 6,
   "metadata": {},
   "outputs": [
    {
     "data": {
      "text/html": [
       "<h2>Register 0x0001 Value Explanation</h2>"
      ],
      "text/plain": [
       "<IPython.core.display.HTML object>"
      ]
     },
     "metadata": {},
     "output_type": "display_data"
    },
    {
     "data": {
      "application/vnd.jupyter.widget-view+json": {
       "model_id": "466ba78546db49c68faec36ebc3c2a88",
       "version_major": 2,
       "version_minor": 0
      },
      "text/plain": [
       "interactive(children=(Text(value='0x000', description='Hex Value:'), Output()), _dom_classes=('widget-interact…"
      ]
     },
     "metadata": {},
     "output_type": "display_data"
    },
    {
     "data": {
      "text/plain": [
       "<function __main__.describe_register_value(hex_value='0x000')>"
      ]
     },
     "execution_count": 6,
     "metadata": {},
     "output_type": "execute_result"
    }
   ],
   "source": [
    "# Importing necessary library\n",
    "from ipywidgets import interact, IntSlider, Text, VBox, Label\n",
    "from IPython.display import display, HTML\n",
    "\n",
    "# Function to describe each bit based on the given value\n",
    "def describe_register_value(hex_value=\"0x000\"):\n",
    "    # Convert the hex value to an integer\n",
    "    register_value = int(hex_value, 16)\n",
    "    \n",
    "    # Extract each field from the register value\n",
    "    chip_mode_selector = register_value & 0x3            # Bits 1:0\n",
    "    clustering_enable = (register_value >> 2) & 0x1      # Bit 2\n",
    "    matrix_readout_speed = (register_value >> 3) & 0x1   # Bit 3\n",
    "    ib_serial_link_speed = (register_value >> 4) & 0x3   # Bits 5:4\n",
    "    skew_global_signals = (register_value >> 6) & 0x1    # Bit 6\n",
    "    skew_start_readout = (register_value >> 7) & 0x1     # Bit 7\n",
    "    readout_clock_gating = (register_value >> 8) & 0x1   # Bit 8\n",
    "    readout_from_cmu = (register_value >> 9) & 0x1       # Bit 9\n",
    "    \n",
    "    # Prepare descriptions based on the values\n",
    "    descriptions = [\n",
    "        f\"Bits 1:0 - Chip Mode Selector: {chip_mode_selector}\\n\" +\n",
    "        (\"  - 0: Configuration Mode (readout disabled)\\n\" if chip_mode_selector == 0 else \"\") +\n",
    "        (\"  - 1: Triggered Mode\\n\" if chip_mode_selector == 1 else \"\") +\n",
    "        (\"  - 2: Continuous Mode\\n\" if chip_mode_selector == 2 else \"\"),\n",
    "        \n",
    "        f\"Bit 2 - Clustering Enable: {clustering_enable}\\n\" +\n",
    "        (\"  - 0: Disable clustering\\n\" if clustering_enable == 0 else \"\") +\n",
    "        (\"  - 1: Enable clustering\\n\" if clustering_enable == 1 else \"\"),\n",
    "        \n",
    "        f\"Bit 3 - Matrix Readout Speed: {matrix_readout_speed}\\n\" +\n",
    "        (\"  - 0: 10 MHz\\n\" if matrix_readout_speed == 0 else \"\") +\n",
    "        (\"  - 1: 20 MHz\\n\" if matrix_readout_speed == 1 else \"\"),\n",
    "        \n",
    "        f\"Bits 5:4 - IB Serial Link Speed: {ib_serial_link_speed}\\n\" +\n",
    "        (\"  - 0: 400 Mb/s\\n\" if ib_serial_link_speed == 0 else \"\") +\n",
    "        (\"  - 1: 600 Mb/s\\n\" if ib_serial_link_speed == 1 else \"\") +\n",
    "        (\"  - 2 or 3: 1200 Mb/s\\n\" if ib_serial_link_speed >= 2 else \"\"),\n",
    "        \n",
    "        f\"Bit 6 - Enable Skewing of Global Signals: {skew_global_signals}\\n\" +\n",
    "        (\"  - 0: Disable skewing\\n\" if skew_global_signals == 0 else \"\") +\n",
    "        (\"  - 1: Enable skewing\\n\" if skew_global_signals == 1 else \"\"),\n",
    "        \n",
    "        f\"Bit 7 - Enable Skewing of Start Readout: {skew_start_readout}\\n\" +\n",
    "        (\"  - 0: Disable skewing\\n\" if skew_start_readout == 0 else \"\") +\n",
    "        (\"  - 1: Enable skewing\\n\" if skew_start_readout == 1 else \"\"),\n",
    "        \n",
    "        f\"Bit 8 - Enable Readout Clock Gating: {readout_clock_gating}\\n\" +\n",
    "        (\"  - 0: Disable clock gating\\n\" if readout_clock_gating == 0 else \"\") +\n",
    "        (\"  - 1: Enable clock gating\\n\" if readout_clock_gating == 1 else \"\"),\n",
    "        \n",
    "        f\"Bit 9 - Enable Readout From CMU: {readout_from_cmu}\\n\" +\n",
    "        (\"  - 0: Disable readout from CMU\\n\" if readout_from_cmu == 0 else \"\") +\n",
    "        (\"  - 1: Enable readout from CMU\\n\" if readout_from_cmu == 1 else \"\")\n",
    "    ]\n",
    "    \n",
    "    # Display the explanations\n",
    "    display(VBox([Label(description) for description in descriptions]))\n",
    "\n",
    "# Displaying a title\n",
    "display(HTML(\"<h2>Register 0x0001 Value Explanation</h2>\"))\n",
    "\n",
    "# Use interact to input a hexadecimal value and get a description of each bit\n",
    "interact(\n",
    "    describe_register_value,\n",
    "    hex_value=Text(value=\"0x000\", description=\"Hex Value:\")\n",
    ")\n"
   ]
  },
  {
   "cell_type": "markdown",
   "metadata": {},
   "source": [
    "0x3cd e' il valore  messo da giuseppe, in cui si mette 0000001111001101. Quindi velocita inner barrel 400 Mb/s e matrix readout speed 20 MHz. Semplificato in decimale sarebbe: 1 1 1 0 1 1 1 1"
   ]
  },
  {
   "cell_type": "code",
   "execution_count": null,
   "metadata": {},
   "outputs": [],
   "source": []
  }
 ],
 "metadata": {
  "kernelspec": {
   "display_name": "Python 3",
   "language": "python",
   "name": "python3"
  },
  "language_info": {
   "codemirror_mode": {
    "name": "ipython",
    "version": 3
   },
   "file_extension": ".py",
   "mimetype": "text/x-python",
   "name": "python",
   "nbconvert_exporter": "python",
   "pygments_lexer": "ipython3",
   "version": "3.9.7"
  }
 },
 "nbformat": 4,
 "nbformat_minor": 2
}
