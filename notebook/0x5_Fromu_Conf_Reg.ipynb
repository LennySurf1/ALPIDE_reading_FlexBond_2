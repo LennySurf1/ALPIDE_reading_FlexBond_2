{
 "cells": [
  {
   "cell_type": "code",
   "execution_count": 5,
   "metadata": {},
   "outputs": [
    {
     "data": {
      "text/html": [
       "<h2>Register 0x5 FROMU Configuration Register 2 Explanation</h2>"
      ],
      "text/plain": [
       "<IPython.core.display.HTML object>"
      ]
     },
     "metadata": {},
     "output_type": "display_data"
    },
    {
     "data": {
      "application/vnd.jupyter.widget-view+json": {
       "model_id": "3813f51b9c2748d7aa87e6384c55e9b2",
       "version_major": 2,
       "version_minor": 0
      },
      "text/plain": [
       "interactive(children=(Text(value='0x0000', description='Hex Value:'), Output()), _dom_classes=('widget-interac…"
      ]
     },
     "metadata": {},
     "output_type": "display_data"
    },
    {
     "data": {
      "text/plain": [
       "<function __main__.describe_fromu_config_register_2(hex_value='0x0000')>"
      ]
     },
     "execution_count": 5,
     "metadata": {},
     "output_type": "execute_result"
    }
   ],
   "source": [
    "# Importing necessary libraries\n",
    "from ipywidgets import interact, Text, VBox, Label\n",
    "from IPython.display import display, HTML\n",
    "\n",
    "# Function to describe the FROMU Configuration Register 2 based on the given value\n",
    "def describe_fromu_config_register_2(hex_value=\"0x0000\"):\n",
    "    # Convert the hex value to an integer\n",
    "    register_value = int(hex_value, 16)\n",
    "    \n",
    "    # Calculate the STROBE pulse duration\n",
    "    strobe_duration_cycles = register_value + 1\n",
    "    min_duration = 1  # Minimum value (in cycles)\n",
    "    max_duration = 65536  # Maximum value (in cycles)\n",
    "    min_time = min_duration * 25e-9  # Minimum time in seconds\n",
    "    max_time = max_duration * 25e-9  # Maximum time in seconds\n",
    "    \n",
    "    # Create description\n",
    "    description = (\n",
    "        f\"FROMU Configuration Register 2 Value (Hex): {hex_value.upper()}\\n\"\n",
    "        f\"STROBE Pulse Duration: {strobe_duration_cycles} cycles\\n\"\n",
    "        f\"Duration Range: From {min_duration} to {max_duration} cycles\\n\"\n",
    "        f\"Equivalent Time Range: From {min_time:.1e} seconds to {max_time:.1e} seconds (assuming a clock period of 25 ns)\"\n",
    "    )\n",
    "    \n",
    "    # Display the description\n",
    "    display(VBox([\n",
    "        Label(description)\n",
    "    ]))\n",
    "\n",
    "# Displaying a title\n",
    "display(HTML(\"<h2>Register 0x5 FROMU Configuration Register 2 Explanation</h2>\"))\n",
    "\n",
    "# Use interact to input a hexadecimal value and get a description of the FROMU Configuration Register 2\n",
    "interact(\n",
    "    describe_fromu_config_register_2,\n",
    "    hex_value=Text(value=\"0x0000\", description=\"Hex Value:\")\n",
    ")\n"
   ]
  },
  {
   "cell_type": "code",
   "execution_count": null,
   "metadata": {},
   "outputs": [],
   "source": []
  }
 ],
 "metadata": {
  "kernelspec": {
   "display_name": "Python 3",
   "language": "python",
   "name": "python3"
  },
  "language_info": {
   "codemirror_mode": {
    "name": "ipython",
    "version": 3
   },
   "file_extension": ".py",
   "mimetype": "text/x-python",
   "name": "python",
   "nbconvert_exporter": "python",
   "pygments_lexer": "ipython3",
   "version": "3.9.7"
  }
 },
 "nbformat": 4,
 "nbformat_minor": 2
}
