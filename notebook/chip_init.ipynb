{
 "cells": [
  {
   "cell_type": "code",
   "execution_count": 5,
   "metadata": {},
   "outputs": [
    {
     "data": {
      "text/html": [
       "<h2>Chip Initialization Procedure</h2>"
      ],
      "text/plain": [
       "<IPython.core.display.HTML object>"
      ]
     },
     "metadata": {},
     "output_type": "display_data"
    },
    {
     "data": {
      "application/vnd.jupyter.widget-view+json": {
       "model_id": "c66af4780d824ca8b59008d5088ea92b",
       "version_major": 2,
       "version_minor": 0
      },
      "text/plain": [
       "interactive(children=(Checkbox(value=True, description='inner_barrel_mode'), Text(value='0x001F', description=…"
      ]
     },
     "metadata": {},
     "output_type": "display_data"
    },
    {
     "data": {
      "text/plain": [
       "<function __main__.initialize_chip(inner_barrel_mode=True, strobe_duration_hex='0x001F', periphery_control_hex='0x3C')>"
      ]
     },
     "execution_count": 5,
     "metadata": {},
     "output_type": "execute_result"
    }
   ],
   "source": [
    "# Import necessary libraries\n",
    "from ipywidgets import interact, Text, VBox\n",
    "from IPython.display import display, HTML\n",
    "\n",
    "# Function to initialize chip and generate register settings\n",
    "def initialize_chip(inner_barrel_mode=True, strobe_duration_hex=\"0x001F\", periphery_control_hex=\"0x3C\"):\n",
    "    # Define register settings based on the mode\n",
    "    register_settings = {}\n",
    "\n",
    "    if inner_barrel_mode:\n",
    "        # Define settings for each register with values to set\n",
    "        register_settings = {\n",
    "            '0x0004': {\n",
    "                'Pixel MEB Mask': '0x0',  # Enable all MEB slices\n",
    "                'Internal STROBE Generation': '1',\n",
    "                'Enable BUSY Monitoring': '1',\n",
    "                'Test Pulse Mode': '0',  # Digital pulsing\n",
    "                'Enable Test STROBE': '1'\n",
    "            },\n",
    "            '0x0005': {\n",
    "                'STROBE Duration': strobe_duration_hex  # Duration in cycles\n",
    "            },\n",
    "            '0x0001': {\n",
    "                'Chip Mode Selector': periphery_control_hex[0:2],  # Mode: TRIGGERED or CONTINUOUS\n",
    "                'Clustering Enable': periphery_control_hex[2:4],  # Enable clustering\n",
    "                'Matrix Readout Speed': periphery_control_hex[4:6],  # Readout speed\n",
    "                'IB Serial Link Speed': periphery_control_hex[6:8]  # Serial link speed\n",
    "            },\n",
    "            'RORST Command': 'Broadcast to all chips'\n",
    "        }\n",
    "\n",
    "    # Create descriptions\n",
    "    description = (\n",
    "        f\"<h2>Chip Initialization for Inner Barrel Mode</h2>\"\n",
    "        f\"<h3>Register Settings</h3>\"\n",
    "    )\n",
    "    \n",
    "    for register, fields in register_settings.items():\n",
    "        description += f\"<h4>Register {register}</h4>\"\n",
    "        if register == 'RORST Command':\n",
    "            description += f\"<p><strong>Command:</strong> {fields}</p>\"\n",
    "        else:\n",
    "            for field, value in fields.items():\n",
    "                description += f\"<p><strong>{field}:</strong> Set to {value}</p>\"\n",
    "        # Add a horizontal line for separation between registers\n",
    "        description += \"<hr>\"\n",
    "\n",
    "    # Display the results\n",
    "    display(HTML(description))\n",
    "\n",
    "# Display a title\n",
    "display(HTML(\"<h2>Chip Initialization Procedure</h2>\"))\n",
    "\n",
    "# Use interact to input values for STROBE duration and Periphery Control Register\n",
    "interact(\n",
    "    initialize_chip,\n",
    "    inner_barrel_mode=True,\n",
    "    strobe_duration_hex=Text(value=\"0x001F\", description=\"STROBE Duration Hex Value:\"),\n",
    "    periphery_control_hex=Text(value=\"0x3C\", description=\"Periphery Control Register Hex Value:\")\n",
    ")\n"
   ]
  },
  {
   "cell_type": "code",
   "execution_count": null,
   "metadata": {},
   "outputs": [],
   "source": []
  }
 ],
 "metadata": {
  "kernelspec": {
   "display_name": "Python 3",
   "language": "python",
   "name": "python3"
  },
  "language_info": {
   "codemirror_mode": {
    "name": "ipython",
    "version": 3
   },
   "file_extension": ".py",
   "mimetype": "text/x-python",
   "name": "python",
   "nbconvert_exporter": "python",
   "pygments_lexer": "ipython3",
   "version": "3.9.7"
  }
 },
 "nbformat": 4,
 "nbformat_minor": 2
}
